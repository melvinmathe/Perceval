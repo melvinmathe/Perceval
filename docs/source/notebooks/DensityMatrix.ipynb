{
 "cells": [
  {
   "cell_type": "markdown",
   "id": "ad07c82bf18ef2bc",
   "metadata": {
    "collapsed": false
   },
   "source": [
    "# Life cycle of a Density Matrix"
   ]
  },
  {
   "cell_type": "code",
   "execution_count": null,
   "id": "initial_id",
   "metadata": {},
   "outputs": [],
   "source": [
    "import perceval as pcvl\n",
    "from perceval import Source, DensityMatrix\n",
    "from perceval.components import BS, PS, Unitary"
   ]
  }
 ],
 "metadata": {
  "language_info": {
   "name": "python"
  }
 },
 "nbformat": 4,
 "nbformat_minor": 5
}
