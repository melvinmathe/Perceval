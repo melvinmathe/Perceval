{
 "cells": [
  {
   "cell_type": "markdown",
   "id": "ad07c82bf18ef2bc",
   "metadata": {
    "collapsed": false
   },
   "source": [
    "# Life cycle of a Density Matrix\n",
    "\n",
    "This notebook's purpose is to give examples for the usage of the DensityMatrix class of Perceval. It was made by a software intern and\n",
    "may contain some errors concerning quantum physics. Feel free to give your feedback and suggest some modifications."
   ]
  },
  {
   "cell_type": "markdown",
   "id": "6bdbf29d993a73f6",
   "metadata": {
    "collapsed": false
   },
   "source": [
    "## Basics"
   ]
  },
  {
   "cell_type": "markdown",
   "id": "ed01e8c407113dc7",
   "metadata": {
    "collapsed": false
   },
   "source": []
  },
  {
   "cell_type": "code",
   "execution_count": 4,
   "id": "initial_id",
   "metadata": {},
   "outputs": [],
   "source": [
    "import perceval as pcvl\n",
    "from perceval import Source, DensityMatrix, BasicState, Simulator, SLOSBackend\n",
    "from perceval.components import BS, PS, Unitary\n",
    "import numpy as np\n",
    "from numpy import pi"
   ]
  },
  {
   "cell_type": "markdown",
   "id": "56e165f5a8adc83d",
   "metadata": {
    "collapsed": false
   },
   "source": [
    "If we try to reproduce the Hong-Ou-Mandel effect in Perceval, we can clearly see the quantum coherence in the non-diagonal coefficients of\n",
    "the output density matrix."
   ]
  },
  {
   "cell_type": "code",
   "execution_count": 5,
   "id": "af085cd678987933",
   "metadata": {},
   "outputs": [
    {
     "data": {
      "image/png": "[encoded data removed]",
      "text/plain": [
       "<Figure size 640x480 with 1 Axes>"
      ]
     },
     "metadata": {},
     "output_type": "display_data"
    }
   ],
   "source": [
    "circuit = BS.H()\n",
    "sim = Simulator(SLOSBackend())\n",
    "sim.set_circuit(circuit)\n",
    "\n",
    "output_state = sim.evolve(BasicState([1, 1]))\n",
    "output_density_matrix = DensityMatrix.from_svd(output_state)\n",
    "\n",
    "pcvl.pdisplay(output_density_matrix)"
   ]
  },
  {
   "cell_type": "markdown",
   "id": "dc5ec533b8371819",
   "metadata": {
    "collapsed": false
   },
   "source": [
    "Now, if we use a source with a low brightness, some of this coherence will fade into non-coherent 1 photon states."
   ]
  },
  {
   "cell_type": "code",
   "execution_count": 9,
   "id": "a1aed4e9f885f259",
   "metadata": {},
   "outputs": [
    {
     "data": {
      "image/png": "[encoded data removed]",
      "text/plain": [
       "<Figure size 640x480 with 1 Axes>"
      ]
     },
     "metadata": {},
     "output_type": "display_data"
    }
   ],
   "source": [
    "source = Source(.6)\n",
    "input_density_matrix = DensityMatrix.from_svd(source.generate_distribution(BasicState([1, 1])))\n",
    "\n",
    "output_density_matrix = sim.evolve_density_matrix(input_density_matrix)\n",
    "pcvl.pdisplay(output_density_matrix)"
   ]
  },
  {
   "cell_type": "markdown",
   "id": "f63c48609dc31c71",
   "metadata": {
    "collapsed": false
   },
   "source": [
    "## Expectation value of an operator\n",
    "\n",
    "The expectation value of an operator $\\textbf{\\hat{O}}$ over a quantum system represented by a density matrix $\n",
    "\\textbf{\\rho}$ is given by the nice formula :\n",
    "$$\n",
    " <\\textbf{\\hat{O}}>  =  Tr(\\textbf{\\hat{O}}\\textbf{\\rho})\n",
    "$$\n",
    "Below we will evaluate the expectation value of the number operator $\\textbf{\\hat{N}}$ and the Hamiltonian $\\textbf{\\hat{H}}$ for the \n",
    "density matrix found above."
   ]
  },
  {
   "cell_type": "code",
   "execution_count": 10,
   "id": "9b07e729b5510418",
   "metadata": {},
   "outputs": [
    {
     "name": "stdout",
     "output_type": "stream",
     "text": [
      "(1.2+0j)\n"
     ]
    }
   ],
   "source": [
    "dm_shape = output_density_matrix.shape\n",
    "number_operator = np.zeros(dm_shape)\n",
    "\n",
    "for state, index in output_density_matrix.index.items():\n",
    "    number_operator[index, index] = state.n \n",
    "\n",
    "print((number_operator @ output_density_matrix.mat).trace())\n"
   ]
  },
  {
   "cell_type": "markdown",
   "id": "2c0b71520203b1c3",
   "metadata": {
    "collapsed": false
   },
   "source": [
    "We expectedly get 1.2 as we have a 60% chance to each of our two photons (from the source parameter)\n",
    "\n",
    "Now we can try to compute the \"hamiltonian\" from the common relation : \n",
    "$$\n",
    "\\textbf{\\hat{H}} = (\\textbf{\\hat{N}} + \\frac{1}{2})\\hbar\\omega\n",
    "$$\n",
    "We will take $\\omega = 2\\pi\\frac{c}{\\lambda}$ with the value $\\lambda = 928nm$ as in Ascella"
   ]
  },
  {
   "cell_type": "code",
   "execution_count": null,
   "id": "8df4309cf83b4f28",
   "metadata": {},
   "outputs": [],
   "source": [
    "hbar = 1.05457182e-34\n",
    "omega = (2*pi*2.99e8)*928e-9\n",
    "\n",
    "hamiltonian = hbar * omega * (number_operator + (1/2)*np.eye(dm_shape))\n",
    "\n",
    "print((hamiltonian @ output_density_matrix).trace())"
   ]
  }
 ],
 "metadata": {
  "language_info": {
   "name": "python"
  }
 },
 "nbformat": 4,
 "nbformat_minor": 5
}
